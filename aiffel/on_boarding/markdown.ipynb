{
 "cells": [
  {
   "cell_type": "markdown",
   "id": "29ca042c",
   "metadata": {},
   "source": [
    "# This is a H1\n",
    "## This is a H2\n",
    "### This is a H3\n",
    "#### This is a H4\n",
    "##### This is a H5\n",
    "###### This is a H6"
   ]
  },
  {
   "cell_type": "markdown",
   "id": "6776acb5",
   "metadata": {},
   "source": [
    "1. first\n",
    "2. second\n",
    "3. third"
   ]
  },
  {
   "cell_type": "markdown",
   "id": "580ab4a5",
   "metadata": {},
   "source": [
    "- red\n",
    "  - green\n",
    "    - blue"
   ]
  },
  {
   "cell_type": "markdown",
   "id": "5fa41c1d",
   "metadata": {},
   "source": [
    "---"
   ]
  },
  {
   "cell_type": "markdown",
   "id": "524dceb0",
   "metadata": {},
   "source": [
    "[google](https://google.com)"
   ]
  },
  {
   "cell_type": "markdown",
   "id": "73c3b75f",
   "metadata": {},
   "source": [
    "*single asterisks*  \n",
    "_single underscores_  \n",
    "**double asterisks**  \n",
    "__double underscores__  \n",
    "~~cancelline~~  "
   ]
  },
  {
   "cell_type": "markdown",
   "id": "1c80f3c5",
   "metadata": {},
   "source": [
    "```\n",
    "print(\"hello Markdown\")\n",
    "```"
   ]
  },
  {
   "cell_type": "markdown",
   "id": "90ca83dc",
   "metadata": {},
   "source": [
    "![duck](duck.png)"
   ]
  },
  {
   "cell_type": "markdown",
   "id": "b244b80a",
   "metadata": {},
   "source": [
    "<img src=\"duck.png\" width=\"450px\" height=\"300px\"></img>"
   ]
  },
  {
   "cell_type": "markdown",
   "id": "ba03944d",
   "metadata": {},
   "source": [
    "마크다운(Markdown)은 일반 텍스트 기반의 경량 마크업 언어다. 일반 텍스트로 서식이 있는 문서를 작성하는 데 사용되며, 일반 마크업 언어에 비해 문법이 쉽고 간단한 것이 특징이다. (출처: [위키피디아](https://www.wikipedia.org/))\n",
    "\n",
    "- [마크다운 공식 사이트](https://daringfireball.net/projects/markdown/)\n",
    "- [GitHub](https://github.com/)\n",
    "- [아이펠](https://aiffel.io/)"
   ]
  },
  {
   "cell_type": "markdown",
   "id": "8ace67ce",
   "metadata": {},
   "source": [
    "1. first\n",
    "2. second\n",
    "3. third"
   ]
  }
 ],
 "metadata": {
  "kernelspec": {
   "display_name": "Python 3 (ipykernel)",
   "language": "python",
   "name": "python3"
  },
  "language_info": {
   "codemirror_mode": {
    "name": "ipython",
    "version": 3
   },
   "file_extension": ".py",
   "mimetype": "text/x-python",
   "name": "python",
   "nbconvert_exporter": "python",
   "pygments_lexer": "ipython3",
   "version": "3.9.7"
  }
 },
 "nbformat": 4,
 "nbformat_minor": 5
}
