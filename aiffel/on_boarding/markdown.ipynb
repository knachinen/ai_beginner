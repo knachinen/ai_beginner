{
 "cells": [
  {
   "cell_type": "markdown",
   "id": "49ddd615",
   "metadata": {},
   "source": [
    "# This is a H1\n",
    "## This is a H2\n",
    "### This is a H3\n",
    "#### This is a H4\n",
    "##### This is a H5\n",
    "###### This is a H6"
   ]
  },
  {
   "cell_type": "markdown",
   "id": "18103cdc",
   "metadata": {},
   "source": [
    "1. first\n",
    "2. second\n",
    "3. third"
   ]
  },
  {
   "cell_type": "markdown",
   "id": "04939c78",
   "metadata": {},
   "source": [
    "- red\n",
    "  - green\n",
    "    - blue"
   ]
  },
  {
   "cell_type": "markdown",
   "id": "d7eefd49",
   "metadata": {},
   "source": [
    "---"
   ]
  },
  {
   "cell_type": "markdown",
   "id": "1bc6c052",
   "metadata": {},
   "source": [
    "[google](https://google.com)"
   ]
  },
  {
   "cell_type": "markdown",
   "id": "dfd540bc",
   "metadata": {},
   "source": [
    "*single asterisks*  \n",
    "_single underscores_  \n",
    "**double asterisks**  \n",
    "__double underscores__  \n",
    "~~cancelline~~  "
   ]
  },
  {
   "cell_type": "markdown",
   "id": "c22c6cc9",
   "metadata": {},
   "source": [
    "```\n",
    "print(\"hello Markdown\")\n",
    "```"
   ]
  },
  {
   "cell_type": "markdown",
   "id": "df725863",
   "metadata": {},
   "source": [
    "![duck](duck.png)"
   ]
  },
  {
   "cell_type": "markdown",
   "id": "627dc48a",
   "metadata": {},
   "source": [
    "<img src=\"duck.png\" width=\"450px\" height=\"300px\"></img>"
   ]
  },
  {
   "cell_type": "markdown",
   "id": "149815e4",
   "metadata": {},
   "source": [
    "마크다운(Markdown)은 일반 텍스트 기반의 경량 마크업 언어다. 일반 텍스트로 서식이 있는 문서를 작성하는 데 사용되며, 일반 마크업 언어에 비해 문법이 쉽고 간단한 것이 특징이다. (출처: [위키피디아](https://www.wikipedia.org/))\n",
    "\n",
    "- [마크다운 공식 사이트](https://daringfireball.net/projects/markdown/)\n",
    "- [GitHub](https://github.com/)\n",
    "- [아이펠](https://aiffel.io/)"
   ]
  }
 ],
 "metadata": {
  "kernelspec": {
   "display_name": "Python 3 (ipykernel)",
   "language": "python",
   "name": "python3"
  },
  "language_info": {
   "codemirror_mode": {
    "name": "ipython",
    "version": 3
   },
   "file_extension": ".py",
   "mimetype": "text/x-python",
   "name": "python",
   "nbconvert_exporter": "python",
   "pygments_lexer": "ipython3",
   "version": "3.9.7"
  }
 },
 "nbformat": 4,
 "nbformat_minor": 5
}
