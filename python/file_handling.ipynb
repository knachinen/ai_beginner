{
 "cells": [
  {
   "cell_type": "markdown",
   "id": "0b493825",
   "metadata": {},
   "source": [
    "### python - path"
   ]
  },
  {
   "cell_type": "code",
   "execution_count": 1,
   "id": "df6f2307",
   "metadata": {},
   "outputs": [],
   "source": [
    "import pathlib\n",
    "\n",
    "path = pathlib.Path('.')\n",
    "files = path.glob('*')\n",
    "file_list = list(files)"
   ]
  },
  {
   "cell_type": "code",
   "execution_count": 2,
   "id": "e339b7b6",
   "metadata": {
    "scrolled": true
   },
   "outputs": [
    {
     "name": "stdout",
     "output_type": "stream",
     "text": [
      ".ipynb_checkpoints\n",
      "test.ipynb\n"
     ]
    }
   ],
   "source": [
    "for name in file_list:\n",
    "    print(name)"
   ]
  },
  {
   "cell_type": "code",
   "execution_count": 5,
   "id": "a5f2e3f8",
   "metadata": {},
   "outputs": [
    {
     "name": "stdout",
     "output_type": "stream",
     "text": [
      "sample.zip\n",
      ".ipynb_checkpoints\n",
      "test.ipynb\n"
     ]
    }
   ],
   "source": [
    "from pathlib import Path\n",
    "\n",
    "fls = []\n",
    "fls.append( list(Path('.').glob('**/*')) )\n",
    "\n",
    "for fl in fls:\n",
    "    for name in fl:\n",
    "        print(name)"
   ]
  },
  {
   "cell_type": "code",
   "execution_count": 8,
   "id": "0d597955",
   "metadata": {},
   "outputs": [],
   "source": [
    "from zipfile import ZipFile\n",
    "\n",
    "zipname = 'sample.zip'\n",
    "\n",
    "with ZipFile(zipname, 'w') as zipf:\n",
    "    for fl in fls:\n",
    "        for name in fl:\n",
    "            zipf.write(name)"
   ]
  },
  {
   "cell_type": "code",
   "execution_count": 9,
   "id": "0b7e2c6f",
   "metadata": {},
   "outputs": [
    {
     "data": {
      "text/html": [
       "<a href='sample.zip' target='_blank'>sample.zip</a><br>"
      ],
      "text/plain": [
       "/Users/salgu/Workspace/ai_beginner/python/sample.zip"
      ]
     },
     "execution_count": 9,
     "metadata": {},
     "output_type": "execute_result"
    }
   ],
   "source": [
    "from IPython.display import FileLink\n",
    "FileLink('sample.zip')"
   ]
  },
  {
   "cell_type": "markdown",
   "id": "da028ff2",
   "metadata": {},
   "source": [
    "### python :: pickle"
   ]
  },
  {
   "cell_type": "code",
   "execution_count": 10,
   "id": "a36115c1",
   "metadata": {},
   "outputs": [],
   "source": [
    "data = {0: 'apple', 1: 'banana', 2: 'cherry', 3: 'durian'}"
   ]
  },
  {
   "cell_type": "code",
   "execution_count": 11,
   "id": "766d07a7",
   "metadata": {},
   "outputs": [],
   "source": [
    "import pickle \n",
    "\n",
    "filename = 'data.p'\n",
    "\n",
    "with open(filename, 'wb') as f:\n",
    "    pickle.dump(data, f)"
   ]
  },
  {
   "cell_type": "code",
   "execution_count": 12,
   "id": "ecf6dacb",
   "metadata": {},
   "outputs": [
    {
     "name": "stdout",
     "output_type": "stream",
     "text": [
      "59\n",
      "1686069595.100973\n",
      "59\n",
      "33188\n"
     ]
    }
   ],
   "source": [
    "import os\n",
    "\n",
    "stat = os.stat(filename)\n",
    "\n",
    "print(os.path.getsize(filename))\n",
    "print(os.path.getctime(filename))\n",
    "print(stat.st_size)\n",
    "print(stat.st_mode)"
   ]
  },
  {
   "cell_type": "code",
   "execution_count": 13,
   "id": "bb93f5cb",
   "metadata": {},
   "outputs": [],
   "source": [
    "from datetime import datetime\n",
    "from os import scandir\n",
    "\n",
    "def convert_date(timestamp):\n",
    "    #d = datetime.utcfromtimestamp(timestamp)\n",
    "    d = datetime.fromtimestamp(timestamp)\n",
    "    formated_date = d.strftime('%d %b %Y - %H:%M:%S')\n",
    "    return formated_date\n",
    "\n",
    "def get_files():\n",
    "    dir_entries = scandir('./')\n",
    "    for entry in dir_entries:\n",
    "        if entry.is_file():\n",
    "            info = entry.stat()\n",
    "            print(f'{entry.name:15} \\t {info.st_size} \\t {convert_date(info.st_mtime)}')"
   ]
  },
  {
   "cell_type": "code",
   "execution_count": 14,
   "id": "266059f0",
   "metadata": {
    "scrolled": false
   },
   "outputs": [
    {
     "name": "stdout",
     "output_type": "stream",
     "text": [
      "sample.zip      \t 19863 \t 07 Jun 2023 - 01:39:41\n",
      "data.p          \t 59 \t 07 Jun 2023 - 01:39:55\n",
      "test.ipynb      \t 19535 \t 07 Jun 2023 - 01:39:28\n"
     ]
    }
   ],
   "source": [
    "get_files()"
   ]
  },
  {
   "cell_type": "code",
   "execution_count": 15,
   "id": "ca99a5d2",
   "metadata": {},
   "outputs": [
    {
     "ename": "UnicodeDecodeError",
     "evalue": "'utf-8' codec can't decode byte 0x80 in position 0: invalid start byte",
     "output_type": "error",
     "traceback": [
      "\u001b[0;31m---------------------------------------------------------------------------\u001b[0m",
      "\u001b[0;31mUnicodeDecodeError\u001b[0m                        Traceback (most recent call last)",
      "Cell \u001b[0;32mIn[15], line 2\u001b[0m\n\u001b[1;32m      1\u001b[0m \u001b[38;5;28;01mwith\u001b[39;00m \u001b[38;5;28mopen\u001b[39m(filename, \u001b[38;5;124m\"\u001b[39m\u001b[38;5;124mr+\u001b[39m\u001b[38;5;124m\"\u001b[39m) \u001b[38;5;28;01mas\u001b[39;00m f:\n\u001b[0;32m----> 2\u001b[0m     \u001b[38;5;28mprint\u001b[39m(\u001b[43mf\u001b[49m\u001b[38;5;241;43m.\u001b[39;49m\u001b[43mread\u001b[49m\u001b[43m(\u001b[49m\u001b[43m)\u001b[49m)\n",
      "File \u001b[0;32m<frozen codecs>:322\u001b[0m, in \u001b[0;36mdecode\u001b[0;34m(self, input, final)\u001b[0m\n",
      "\u001b[0;31mUnicodeDecodeError\u001b[0m: 'utf-8' codec can't decode byte 0x80 in position 0: invalid start byte"
     ]
    }
   ],
   "source": [
    "with open(filename, \"r+\") as f:\n",
    "    print(f.read())"
   ]
  },
  {
   "cell_type": "code",
   "execution_count": 16,
   "id": "041ec89c",
   "metadata": {},
   "outputs": [
    {
     "name": "stdout",
     "output_type": "stream",
     "text": [
      "\u00040\u0000\u0000\u0000\u0000\u0000\u0000\u0000}(K\u0000\u0005appleK\u0001\u0006bananaK\u0002\u0006cherryK\u0003\u0006durianu.\n"
     ]
    }
   ],
   "source": [
    "with open(filename, \"r+\", encoding='latin-1') as f:\n",
    "    print(f.read())"
   ]
  },
  {
   "cell_type": "code",
   "execution_count": 17,
   "id": "d6faea95",
   "metadata": {},
   "outputs": [
    {
     "data": {
      "text/plain": [
       "{0: 'apple', 1: 'banana', 2: 'cherry', 3: 'durian'}"
      ]
     },
     "execution_count": 17,
     "metadata": {},
     "output_type": "execute_result"
    }
   ],
   "source": [
    "with open(filename, \"rb\") as f:\n",
    "    data_load = pickle.load(f)\n",
    "    \n",
    "data_load"
   ]
  }
 ],
 "metadata": {
  "kernelspec": {
   "display_name": "Python 3 (ipykernel)",
   "language": "python",
   "name": "python3"
  },
  "language_info": {
   "codemirror_mode": {
    "name": "ipython",
    "version": 3
   },
   "file_extension": ".py",
   "mimetype": "text/x-python",
   "name": "python",
   "nbconvert_exporter": "python",
   "pygments_lexer": "ipython3",
   "version": "3.11.0"
  }
 },
 "nbformat": 4,
 "nbformat_minor": 5
}
