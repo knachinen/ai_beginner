{
 "cells": [
  {
   "cell_type": "code",
   "execution_count": 8,
   "id": "3b198e9a",
   "metadata": {},
   "outputs": [
    {
     "name": "stdout",
     "output_type": "stream",
     "text": [
      "dict_keys(['key0', 'key1', 'key2', 'key3', 'key4', 'key5', 'key6', 'key7', 'key8', 'key9', 'key10', 'key11', 'key12', 'key13', 'key14', 'key15', 'key16', 'key17', 'key18', 'key19'])\n",
      "dict_values(['value0', 'value1', 'value2', 'value3', 'value4', 'value5', 'value6', 'value7', 'value8', 'value9', 'value10', 'value11', 'value12', 'value13', 'value14', 'value15', 'value16', 'value17', 'value18', 'value19'])\n",
      "dict_items([('key0', 'value0'), ('key1', 'value1'), ('key2', 'value2'), ('key3', 'value3'), ('key4', 'value4'), ('key5', 'value5'), ('key6', 'value6'), ('key7', 'value7'), ('key8', 'value8'), ('key9', 'value9'), ('key10', 'value10'), ('key11', 'value11'), ('key12', 'value12'), ('key13', 'value13'), ('key14', 'value14'), ('key15', 'value15'), ('key16', 'value16'), ('key17', 'value17'), ('key18', 'value18'), ('key19', 'value19')])\n"
     ]
    }
   ],
   "source": [
    "# make dummy dictionary\n",
    "dict_dummy = {f'key{i}': f'value{i}' for i in range(0, 20)}\n",
    "\n",
    "print(dict_dummy.keys())\n",
    "print(dict_dummy.values())\n",
    "print(dict_dummy.items())"
   ]
  },
  {
   "cell_type": "code",
   "execution_count": 13,
   "id": "4a03371e",
   "metadata": {},
   "outputs": [
    {
     "name": "stdout",
     "output_type": "stream",
     "text": [
      "key0 \t value0\n",
      "key1 \t value1\n",
      "key2 \t value2\n",
      "key3 \t value3\n",
      "key4 \t value4\n"
     ]
    }
   ],
   "source": [
    "keys = list(dict_dummy.keys())[:5]  # Get the first 5 keys\n",
    "values = list(dict_dummy.values())[:5]  # Get the first 5 values\n",
    "\n",
    "for key, value in zip(keys, values):\n",
    "    print(key, '\\t', value)"
   ]
  },
  {
   "cell_type": "code",
   "execution_count": 26,
   "id": "f32c0159",
   "metadata": {},
   "outputs": [],
   "source": [
    "dict_dummy2 = {f'key{i}': f'value{i}' for i in np.arange(20, 20+20, 1)}"
   ]
  },
  {
   "cell_type": "code",
   "execution_count": 27,
   "id": "d31ade7b",
   "metadata": {},
   "outputs": [
    {
     "name": "stdout",
     "output_type": "stream",
     "text": [
      "key20 \t value20\n",
      "key21 \t value21\n",
      "key22 \t value22\n",
      "key23 \t value23\n",
      "key24 \t value24\n"
     ]
    }
   ],
   "source": [
    "import numpy as np\n",
    "\n",
    "keys2 = list(dict_dummy2.keys())[:5]  # Get the first 5 keys\n",
    "values2 = list(dict_dummy2.values())[:5]  # Get the first 5 values\n",
    "\n",
    "for key, value in zip(keys2, values2):\n",
    "    print(key, '\\t', value)"
   ]
  },
  {
   "cell_type": "code",
   "execution_count": 29,
   "id": "b6c0c39b",
   "metadata": {},
   "outputs": [
    {
     "name": "stdout",
     "output_type": "stream",
     "text": [
      "['key0' 'key1' 'key2' 'key3' 'key4'] \t ['value0' 'value1' 'value2' 'value3' 'value4']\n",
      "['key20' 'key21' 'key22' 'key23' 'key24'] \t ['value20' 'value21' 'value22' 'value23' 'value24']\n"
     ]
    }
   ],
   "source": [
    "keys_vstack = np.vstack((keys, keys2))\n",
    "values_vstack = np.vstack((values, values2))\n",
    "\n",
    "for key, value in zip(keys_vstack, values_vstack):\n",
    "    print(key, '\\t', value)"
   ]
  },
  {
   "cell_type": "code",
   "execution_count": 9,
   "id": "97c22b96",
   "metadata": {},
   "outputs": [],
   "source": [
    "import pandas as pd\n",
    "\n",
    "df = pd.DataFrame(dict_dummy.items(), columns=['key', 'value'])"
   ]
  },
  {
   "cell_type": "code",
   "execution_count": 10,
   "id": "498018b0",
   "metadata": {},
   "outputs": [
    {
     "data": {
      "text/html": [
       "<div>\n",
       "<style scoped>\n",
       "    .dataframe tbody tr th:only-of-type {\n",
       "        vertical-align: middle;\n",
       "    }\n",
       "\n",
       "    .dataframe tbody tr th {\n",
       "        vertical-align: top;\n",
       "    }\n",
       "\n",
       "    .dataframe thead th {\n",
       "        text-align: right;\n",
       "    }\n",
       "</style>\n",
       "<table border=\"1\" class=\"dataframe\">\n",
       "  <thead>\n",
       "    <tr style=\"text-align: right;\">\n",
       "      <th></th>\n",
       "      <th>key</th>\n",
       "      <th>value</th>\n",
       "    </tr>\n",
       "  </thead>\n",
       "  <tbody>\n",
       "    <tr>\n",
       "      <th>0</th>\n",
       "      <td>key0</td>\n",
       "      <td>value0</td>\n",
       "    </tr>\n",
       "    <tr>\n",
       "      <th>1</th>\n",
       "      <td>key1</td>\n",
       "      <td>value1</td>\n",
       "    </tr>\n",
       "    <tr>\n",
       "      <th>2</th>\n",
       "      <td>key2</td>\n",
       "      <td>value2</td>\n",
       "    </tr>\n",
       "    <tr>\n",
       "      <th>3</th>\n",
       "      <td>key3</td>\n",
       "      <td>value3</td>\n",
       "    </tr>\n",
       "    <tr>\n",
       "      <th>4</th>\n",
       "      <td>key4</td>\n",
       "      <td>value4</td>\n",
       "    </tr>\n",
       "  </tbody>\n",
       "</table>\n",
       "</div>"
      ],
      "text/plain": [
       "    key   value\n",
       "0  key0  value0\n",
       "1  key1  value1\n",
       "2  key2  value2\n",
       "3  key3  value3\n",
       "4  key4  value4"
      ]
     },
     "execution_count": 10,
     "metadata": {},
     "output_type": "execute_result"
    }
   ],
   "source": [
    "df.head()"
   ]
  },
  {
   "cell_type": "code",
   "execution_count": 11,
   "id": "7c649e74",
   "metadata": {},
   "outputs": [
    {
     "data": {
      "text/html": [
       "<div>\n",
       "<style scoped>\n",
       "    .dataframe tbody tr th:only-of-type {\n",
       "        vertical-align: middle;\n",
       "    }\n",
       "\n",
       "    .dataframe tbody tr th {\n",
       "        vertical-align: top;\n",
       "    }\n",
       "\n",
       "    .dataframe thead th {\n",
       "        text-align: right;\n",
       "    }\n",
       "</style>\n",
       "<table border=\"1\" class=\"dataframe\">\n",
       "  <thead>\n",
       "    <tr style=\"text-align: right;\">\n",
       "      <th></th>\n",
       "      <th>0</th>\n",
       "      <th>1</th>\n",
       "      <th>2</th>\n",
       "      <th>3</th>\n",
       "      <th>4</th>\n",
       "      <th>5</th>\n",
       "      <th>6</th>\n",
       "      <th>7</th>\n",
       "      <th>8</th>\n",
       "      <th>9</th>\n",
       "      <th>10</th>\n",
       "      <th>11</th>\n",
       "      <th>12</th>\n",
       "      <th>13</th>\n",
       "      <th>14</th>\n",
       "      <th>15</th>\n",
       "      <th>16</th>\n",
       "      <th>17</th>\n",
       "      <th>18</th>\n",
       "      <th>19</th>\n",
       "    </tr>\n",
       "  </thead>\n",
       "  <tbody>\n",
       "    <tr>\n",
       "      <th>key</th>\n",
       "      <td>key0</td>\n",
       "      <td>key1</td>\n",
       "      <td>key2</td>\n",
       "      <td>key3</td>\n",
       "      <td>key4</td>\n",
       "      <td>key5</td>\n",
       "      <td>key6</td>\n",
       "      <td>key7</td>\n",
       "      <td>key8</td>\n",
       "      <td>key9</td>\n",
       "      <td>key10</td>\n",
       "      <td>key11</td>\n",
       "      <td>key12</td>\n",
       "      <td>key13</td>\n",
       "      <td>key14</td>\n",
       "      <td>key15</td>\n",
       "      <td>key16</td>\n",
       "      <td>key17</td>\n",
       "      <td>key18</td>\n",
       "      <td>key19</td>\n",
       "    </tr>\n",
       "    <tr>\n",
       "      <th>value</th>\n",
       "      <td>value0</td>\n",
       "      <td>value1</td>\n",
       "      <td>value2</td>\n",
       "      <td>value3</td>\n",
       "      <td>value4</td>\n",
       "      <td>value5</td>\n",
       "      <td>value6</td>\n",
       "      <td>value7</td>\n",
       "      <td>value8</td>\n",
       "      <td>value9</td>\n",
       "      <td>value10</td>\n",
       "      <td>value11</td>\n",
       "      <td>value12</td>\n",
       "      <td>value13</td>\n",
       "      <td>value14</td>\n",
       "      <td>value15</td>\n",
       "      <td>value16</td>\n",
       "      <td>value17</td>\n",
       "      <td>value18</td>\n",
       "      <td>value19</td>\n",
       "    </tr>\n",
       "  </tbody>\n",
       "</table>\n",
       "</div>"
      ],
      "text/plain": [
       "           0       1       2       3       4       5       6       7       8    \n",
       "key      key0    key1    key2    key3    key4    key5    key6    key7    key8  \\\n",
       "value  value0  value1  value2  value3  value4  value5  value6  value7  value8   \n",
       "\n",
       "           9        10       11       12       13       14       15       16   \n",
       "key      key9    key10    key11    key12    key13    key14    key15    key16  \\\n",
       "value  value9  value10  value11  value12  value13  value14  value15  value16   \n",
       "\n",
       "            17       18       19  \n",
       "key      key17    key18    key19  \n",
       "value  value17  value18  value19  "
      ]
     },
     "execution_count": 11,
     "metadata": {},
     "output_type": "execute_result"
    }
   ],
   "source": [
    "df.T"
   ]
  },
  {
   "cell_type": "code",
   "execution_count": null,
   "id": "3f87704f",
   "metadata": {},
   "outputs": [],
   "source": []
  },
  {
   "cell_type": "code",
   "execution_count": null,
   "id": "6ff473ef",
   "metadata": {},
   "outputs": [],
   "source": [
    "import pandas as pd\n",
    "\n",
    "# Create a sample DataFrame\n",
    "df = pd.DataFrame({\n",
    "    'Date': ['2022-01-01', '2022-01-01', '2022-01-02', '2022-01-02'],\n",
    "    'Category': ['A', 'B', 'A', 'B'],\n",
    "    'Value': [10, 20, 30, 40]\n",
    "})\n",
    "\n",
    "print(df)\n",
    "\n",
    "# Pivot the DataFrame\n",
    "pivot_df = df.pivot(index='Date', columns='Category', values='Value')\n",
    "\n",
    "print(pivot_df)"
   ]
  }
 ],
 "metadata": {
  "kernelspec": {
   "display_name": "Python 3 (ipykernel)",
   "language": "python",
   "name": "python3"
  },
  "language_info": {
   "codemirror_mode": {
    "name": "ipython",
    "version": 3
   },
   "file_extension": ".py",
   "mimetype": "text/x-python",
   "name": "python",
   "nbconvert_exporter": "python",
   "pygments_lexer": "ipython3",
   "version": "3.11.0"
  }
 },
 "nbformat": 4,
 "nbformat_minor": 5
}
